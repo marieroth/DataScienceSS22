{
 "cells": [
  {
   "cell_type": "markdown",
   "metadata": {},
   "source": [
    "Project Task 3"
   ]
  },
  {
   "cell_type": "markdown",
   "metadata": {},
   "source": [
    "Load Training data set into data frame"
   ]
  },
  {
   "cell_type": "code",
   "execution_count": 133,
   "metadata": {},
   "outputs": [
    {
     "data": {
      "text/html": [
       "<div>\n",
       "<style scoped>\n",
       "    .dataframe tbody tr th:only-of-type {\n",
       "        vertical-align: middle;\n",
       "    }\n",
       "\n",
       "    .dataframe tbody tr th {\n",
       "        vertical-align: top;\n",
       "    }\n",
       "\n",
       "    .dataframe thead th {\n",
       "        text-align: right;\n",
       "    }\n",
       "</style>\n",
       "<table border=\"1\" class=\"dataframe\">\n",
       "  <thead>\n",
       "    <tr style=\"text-align: right;\">\n",
       "      <th></th>\n",
       "      <th>department = sweing</th>\n",
       "      <th>department = finishing_finishing</th>\n",
       "      <th>team</th>\n",
       "      <th>targeted_productivity</th>\n",
       "      <th>smv</th>\n",
       "      <th>over_time</th>\n",
       "      <th>idle_men</th>\n",
       "      <th>no_of_style_change</th>\n",
       "      <th>work_cond_f2</th>\n",
       "      <th>actual_productivity</th>\n",
       "      <th>label</th>\n",
       "    </tr>\n",
       "  </thead>\n",
       "  <tbody>\n",
       "    <tr>\n",
       "      <th>0</th>\n",
       "      <td>1</td>\n",
       "      <td>0</td>\n",
       "      <td>8</td>\n",
       "      <td>0.80</td>\n",
       "      <td>25.90</td>\n",
       "      <td>10170.0</td>\n",
       "      <td>0.0</td>\n",
       "      <td>0.0</td>\n",
       "      <td>30.610905</td>\n",
       "      <td>0.850137</td>\n",
       "      <td>0.850137</td>\n",
       "    </tr>\n",
       "    <tr>\n",
       "      <th>1</th>\n",
       "      <td>0</td>\n",
       "      <td>1</td>\n",
       "      <td>5</td>\n",
       "      <td>0.60</td>\n",
       "      <td>4.15</td>\n",
       "      <td>1440.0</td>\n",
       "      <td>0.0</td>\n",
       "      <td>0.0</td>\n",
       "      <td>50.583406</td>\n",
       "      <td>0.852794</td>\n",
       "      <td>0.852794</td>\n",
       "    </tr>\n",
       "    <tr>\n",
       "      <th>2</th>\n",
       "      <td>1</td>\n",
       "      <td>0</td>\n",
       "      <td>6</td>\n",
       "      <td>0.80</td>\n",
       "      <td>11.61</td>\n",
       "      <td>5760.0</td>\n",
       "      <td>0.0</td>\n",
       "      <td>0.0</td>\n",
       "      <td>56.541016</td>\n",
       "      <td>0.800386</td>\n",
       "      <td>0.800386</td>\n",
       "    </tr>\n",
       "    <tr>\n",
       "      <th>3</th>\n",
       "      <td>1</td>\n",
       "      <td>0</td>\n",
       "      <td>1</td>\n",
       "      <td>0.75</td>\n",
       "      <td>26.82</td>\n",
       "      <td>7080.0</td>\n",
       "      <td>0.0</td>\n",
       "      <td>0.0</td>\n",
       "      <td>34.392848</td>\n",
       "      <td>0.750051</td>\n",
       "      <td>0.750051</td>\n",
       "    </tr>\n",
       "    <tr>\n",
       "      <th>4</th>\n",
       "      <td>0</td>\n",
       "      <td>1</td>\n",
       "      <td>3</td>\n",
       "      <td>0.50</td>\n",
       "      <td>5.13</td>\n",
       "      <td>1800.0</td>\n",
       "      <td>0.0</td>\n",
       "      <td>0.0</td>\n",
       "      <td>30.695846</td>\n",
       "      <td>0.786600</td>\n",
       "      <td>0.786600</td>\n",
       "    </tr>\n",
       "  </tbody>\n",
       "</table>\n",
       "</div>"
      ],
      "text/plain": [
       "   department = sweing  department = finishing_finishing   team  \\\n",
       "0                    1                                  0     8   \n",
       "1                    0                                  1     5   \n",
       "2                    1                                  0     6   \n",
       "3                    1                                  0     1   \n",
       "4                    0                                  1     3   \n",
       "\n",
       "   targeted_productivity    smv  over_time  idle_men  no_of_style_change  \\\n",
       "0                   0.80  25.90    10170.0       0.0                 0.0   \n",
       "1                   0.60   4.15     1440.0       0.0                 0.0   \n",
       "2                   0.80  11.61     5760.0       0.0                 0.0   \n",
       "3                   0.75  26.82     7080.0       0.0                 0.0   \n",
       "4                   0.50   5.13     1800.0       0.0                 0.0   \n",
       "\n",
       "   work_cond_f2  actual_productivity     label  \n",
       "0     30.610905             0.850137  0.850137  \n",
       "1     50.583406             0.852794  0.852794  \n",
       "2     56.541016             0.800386  0.800386  \n",
       "3     34.392848             0.750051  0.750051  \n",
       "4     30.695846             0.786600  0.786600  "
      ]
     },
     "execution_count": 133,
     "metadata": {},
     "output_type": "execute_result"
    }
   ],
   "source": [
    "import numpy as np\n",
    "import pandas as pd\n",
    "import matplotlib.pyplot as plt\n",
    "%matplotlib inline\n",
    "\n",
    "df = pd.read_csv(\"training_data.csv\", sep=\";\")\n",
    "\n",
    "df['label']= df.actual_productivity\n",
    "\n",
    "df.head()"
   ]
  },
  {
   "cell_type": "markdown",
   "metadata": {},
   "source": [
    "Show descriptive statistics of your data frame"
   ]
  },
  {
   "cell_type": "code",
   "execution_count": 134,
   "metadata": {},
   "outputs": [
    {
     "data": {
      "text/html": [
       "<div>\n",
       "<style scoped>\n",
       "    .dataframe tbody tr th:only-of-type {\n",
       "        vertical-align: middle;\n",
       "    }\n",
       "\n",
       "    .dataframe tbody tr th {\n",
       "        vertical-align: top;\n",
       "    }\n",
       "\n",
       "    .dataframe thead th {\n",
       "        text-align: right;\n",
       "    }\n",
       "</style>\n",
       "<table border=\"1\" class=\"dataframe\">\n",
       "  <thead>\n",
       "    <tr style=\"text-align: right;\">\n",
       "      <th></th>\n",
       "      <th>department = sweing</th>\n",
       "      <th>department = finishing_finishing</th>\n",
       "      <th>team</th>\n",
       "      <th>targeted_productivity</th>\n",
       "      <th>smv</th>\n",
       "      <th>over_time</th>\n",
       "      <th>idle_men</th>\n",
       "      <th>no_of_style_change</th>\n",
       "      <th>work_cond_f2</th>\n",
       "      <th>actual_productivity</th>\n",
       "      <th>label</th>\n",
       "    </tr>\n",
       "  </thead>\n",
       "  <tbody>\n",
       "    <tr>\n",
       "      <th>count</th>\n",
       "      <td>1144.000000</td>\n",
       "      <td>1144.000000</td>\n",
       "      <td>1144.000000</td>\n",
       "      <td>1144.000000</td>\n",
       "      <td>1144.000000</td>\n",
       "      <td>1144.000000</td>\n",
       "      <td>1144.000000</td>\n",
       "      <td>1144.000000</td>\n",
       "      <td>1144.000000</td>\n",
       "      <td>1144.000000</td>\n",
       "      <td>1144.000000</td>\n",
       "    </tr>\n",
       "    <tr>\n",
       "      <th>mean</th>\n",
       "      <td>0.558566</td>\n",
       "      <td>0.441434</td>\n",
       "      <td>8.055070</td>\n",
       "      <td>0.735839</td>\n",
       "      <td>14.260297</td>\n",
       "      <td>4376.638986</td>\n",
       "      <td>0.329545</td>\n",
       "      <td>0.139860</td>\n",
       "      <td>48.891601</td>\n",
       "      <td>0.670954</td>\n",
       "      <td>0.670954</td>\n",
       "    </tr>\n",
       "    <tr>\n",
       "      <th>std</th>\n",
       "      <td>0.496775</td>\n",
       "      <td>0.496775</td>\n",
       "      <td>4.267061</td>\n",
       "      <td>0.092693</td>\n",
       "      <td>10.218330</td>\n",
       "      <td>3237.992510</td>\n",
       "      <td>3.115558</td>\n",
       "      <td>0.405153</td>\n",
       "      <td>13.212746</td>\n",
       "      <td>0.257171</td>\n",
       "      <td>0.257171</td>\n",
       "    </tr>\n",
       "    <tr>\n",
       "      <th>min</th>\n",
       "      <td>0.000000</td>\n",
       "      <td>0.000000</td>\n",
       "      <td>1.000000</td>\n",
       "      <td>0.350000</td>\n",
       "      <td>2.900000</td>\n",
       "      <td>0.000000</td>\n",
       "      <td>0.000000</td>\n",
       "      <td>0.000000</td>\n",
       "      <td>3.812153</td>\n",
       "      <td>0.061829</td>\n",
       "      <td>0.061829</td>\n",
       "    </tr>\n",
       "    <tr>\n",
       "      <th>25%</th>\n",
       "      <td>0.000000</td>\n",
       "      <td>0.000000</td>\n",
       "      <td>4.000000</td>\n",
       "      <td>0.700000</td>\n",
       "      <td>3.940000</td>\n",
       "      <td>1440.000000</td>\n",
       "      <td>0.000000</td>\n",
       "      <td>0.000000</td>\n",
       "      <td>40.547793</td>\n",
       "      <td>0.536596</td>\n",
       "      <td>0.536596</td>\n",
       "    </tr>\n",
       "    <tr>\n",
       "      <th>50%</th>\n",
       "      <td>1.000000</td>\n",
       "      <td>0.000000</td>\n",
       "      <td>8.000000</td>\n",
       "      <td>0.750000</td>\n",
       "      <td>14.890000</td>\n",
       "      <td>3840.000000</td>\n",
       "      <td>0.000000</td>\n",
       "      <td>0.000000</td>\n",
       "      <td>49.157010</td>\n",
       "      <td>0.750462</td>\n",
       "      <td>0.750462</td>\n",
       "    </tr>\n",
       "    <tr>\n",
       "      <th>75%</th>\n",
       "      <td>1.000000</td>\n",
       "      <td>1.000000</td>\n",
       "      <td>12.000000</td>\n",
       "      <td>0.800000</td>\n",
       "      <td>22.940000</td>\n",
       "      <td>6840.000000</td>\n",
       "      <td>0.000000</td>\n",
       "      <td>0.000000</td>\n",
       "      <td>57.021923</td>\n",
       "      <td>0.850349</td>\n",
       "      <td>0.850349</td>\n",
       "    </tr>\n",
       "    <tr>\n",
       "      <th>max</th>\n",
       "      <td>1.000000</td>\n",
       "      <td>1.000000</td>\n",
       "      <td>14.000000</td>\n",
       "      <td>0.800000</td>\n",
       "      <td>31.830000</td>\n",
       "      <td>15120.000000</td>\n",
       "      <td>45.000000</td>\n",
       "      <td>2.000000</td>\n",
       "      <td>91.341651</td>\n",
       "      <td>0.999999</td>\n",
       "      <td>0.999999</td>\n",
       "    </tr>\n",
       "  </tbody>\n",
       "</table>\n",
       "</div>"
      ],
      "text/plain": [
       "       department = sweing  department = finishing_finishing          team  \\\n",
       "count          1144.000000                        1144.000000  1144.000000   \n",
       "mean              0.558566                           0.441434     8.055070   \n",
       "std               0.496775                           0.496775     4.267061   \n",
       "min               0.000000                           0.000000     1.000000   \n",
       "25%               0.000000                           0.000000     4.000000   \n",
       "50%               1.000000                           0.000000     8.000000   \n",
       "75%               1.000000                           1.000000    12.000000   \n",
       "max               1.000000                           1.000000    14.000000   \n",
       "\n",
       "       targeted_productivity          smv     over_time     idle_men  \\\n",
       "count            1144.000000  1144.000000   1144.000000  1144.000000   \n",
       "mean                0.735839    14.260297   4376.638986     0.329545   \n",
       "std                 0.092693    10.218330   3237.992510     3.115558   \n",
       "min                 0.350000     2.900000      0.000000     0.000000   \n",
       "25%                 0.700000     3.940000   1440.000000     0.000000   \n",
       "50%                 0.750000    14.890000   3840.000000     0.000000   \n",
       "75%                 0.800000    22.940000   6840.000000     0.000000   \n",
       "max                 0.800000    31.830000  15120.000000    45.000000   \n",
       "\n",
       "       no_of_style_change  work_cond_f2  actual_productivity        label  \n",
       "count         1144.000000   1144.000000          1144.000000  1144.000000  \n",
       "mean             0.139860     48.891601             0.670954     0.670954  \n",
       "std              0.405153     13.212746             0.257171     0.257171  \n",
       "min              0.000000      3.812153             0.061829     0.061829  \n",
       "25%              0.000000     40.547793             0.536596     0.536596  \n",
       "50%              0.000000     49.157010             0.750462     0.750462  \n",
       "75%              0.000000     57.021923             0.850349     0.850349  \n",
       "max              2.000000     91.341651             0.999999     0.999999  "
      ]
     },
     "execution_count": 134,
     "metadata": {},
     "output_type": "execute_result"
    }
   ],
   "source": [
    "#Show descriptive statistics of your data frame (see PANDAS1 lab)\n",
    "df.describe()"
   ]
  },
  {
   "cell_type": "markdown",
   "metadata": {},
   "source": [
    "Create a correlation heat map"
   ]
  },
  {
   "cell_type": "code",
   "execution_count": 135,
   "metadata": {},
   "outputs": [
    {
     "data": {
      "image/png": "[encoded data removed]",
      "text/plain": [
       "<Figure size 432x288 with 2 Axes>"
      ]
     },
     "metadata": {
      "needs_background": "light"
     },
     "output_type": "display_data"
    }
   ],
   "source": [
    "import seaborn as sns\n",
    "import matplotlib.pyplot as plt\n",
    "\n",
    "#calculate correlations between all features of your data frame (see Exploration lab)\n",
    "df.corr()\n",
    "corr = df.corr()\n",
    "\n",
    "#generate a custom diverging colormap\n",
    "cmap = sns.diverging_palette(230, 20, as_cmap=True)\n",
    "\n",
    "#draw Heatmap with correlations\n",
    "sns.heatmap(corr,cmap=cmap)\n",
    "plt.show()"
   ]
  },
  {
   "cell_type": "markdown",
   "metadata": {},
   "source": [
    "Split data into training and validation data (1029 training examples = 90% und 115 validationsdaten = 10%)"
   ]
  },
  {
   "cell_type": "code",
   "execution_count": 136,
   "metadata": {},
   "outputs": [
    {
     "data": {
      "text/html": [
       "<div>\n",
       "<style scoped>\n",
       "    .dataframe tbody tr th:only-of-type {\n",
       "        vertical-align: middle;\n",
       "    }\n",
       "\n",
       "    .dataframe tbody tr th {\n",
       "        vertical-align: top;\n",
       "    }\n",
       "\n",
       "    .dataframe thead th {\n",
       "        text-align: right;\n",
       "    }\n",
       "</style>\n",
       "<table border=\"1\" class=\"dataframe\">\n",
       "  <thead>\n",
       "    <tr style=\"text-align: right;\">\n",
       "      <th></th>\n",
       "      <th>label</th>\n",
       "    </tr>\n",
       "  </thead>\n",
       "  <tbody>\n",
       "    <tr>\n",
       "      <th>0</th>\n",
       "      <td>0.850137</td>\n",
       "    </tr>\n",
       "    <tr>\n",
       "      <th>1</th>\n",
       "      <td>0.852794</td>\n",
       "    </tr>\n",
       "    <tr>\n",
       "      <th>2</th>\n",
       "      <td>0.800386</td>\n",
       "    </tr>\n",
       "    <tr>\n",
       "      <th>3</th>\n",
       "      <td>0.750051</td>\n",
       "    </tr>\n",
       "    <tr>\n",
       "      <th>4</th>\n",
       "      <td>0.786600</td>\n",
       "    </tr>\n",
       "    <tr>\n",
       "      <th>...</th>\n",
       "      <td>...</td>\n",
       "    </tr>\n",
       "    <tr>\n",
       "      <th>1024</th>\n",
       "      <td>0.302117</td>\n",
       "    </tr>\n",
       "    <tr>\n",
       "      <th>1025</th>\n",
       "      <td>0.800129</td>\n",
       "    </tr>\n",
       "    <tr>\n",
       "      <th>1026</th>\n",
       "      <td>0.800402</td>\n",
       "    </tr>\n",
       "    <tr>\n",
       "      <th>1027</th>\n",
       "      <td>0.634667</td>\n",
       "    </tr>\n",
       "    <tr>\n",
       "      <th>1028</th>\n",
       "      <td>0.850569</td>\n",
       "    </tr>\n",
       "  </tbody>\n",
       "</table>\n",
       "<p>1029 rows × 1 columns</p>\n",
       "</div>"
      ],
      "text/plain": [
       "         label\n",
       "0     0.850137\n",
       "1     0.852794\n",
       "2     0.800386\n",
       "3     0.750051\n",
       "4     0.786600\n",
       "...        ...\n",
       "1024  0.302117\n",
       "1025  0.800129\n",
       "1026  0.800402\n",
       "1027  0.634667\n",
       "1028  0.850569\n",
       "\n",
       "[1029 rows x 1 columns]"
      ]
     },
     "execution_count": 136,
     "metadata": {},
     "output_type": "execute_result"
    }
   ],
   "source": [
    "num_training_examples=1029\n",
    "num_features=10\n",
    "\n",
    "#Training Data\n",
    "train_features=df.iloc[:num_training_examples,:num_features]\n",
    "train_label=df.iloc[:num_training_examples,num_features:]\n",
    "\n",
    "#Validation Data (the remaining examples)\n",
    "validation_features=df.iloc[num_training_examples:,:num_features]\n",
    "validation_label=df.iloc[num_training_examples:,num_features:]\n",
    "\n",
    "train_label"
   ]
  },
  {
   "cell_type": "markdown",
   "metadata": {},
   "source": [
    "Reduce training and test features to last 10 columns"
   ]
  },
  {
   "cell_type": "code",
   "execution_count": null,
   "metadata": {},
   "outputs": [],
   "source": []
  },
  {
   "cell_type": "markdown",
   "metadata": {},
   "source": [
    "Fit regression model to training data and print regression coefficiants"
   ]
  },
  {
   "cell_type": "code",
   "execution_count": 137,
   "metadata": {},
   "outputs": [
    {
     "name": "stdout",
     "output_type": "stream",
     "text": [
      "Regression coefficiants:  [[-1.41640629e-16  2.51223663e-16  1.73122228e-17  5.02211272e-16\n",
      "   1.99829598e-17  6.56973085e-22  9.64869930e-17 -2.99342234e-16\n",
      "   5.47611907e-20  1.00000000e+00]]\n"
     ]
    }
   ],
   "source": [
    "#Linear Regression\n",
    "from sklearn import linear_model\n",
    "reg = linear_model.LinearRegression()\n",
    "\n",
    "#Fit regression model to training data\n",
    "reg.fit(train_features,train_label)\n",
    "\n",
    "#Print regression coefficiants\n",
    "print(\"Regression coefficiants: \",reg.coef_)"
   ]
  },
  {
   "cell_type": "markdown",
   "metadata": {},
   "source": [
    "Predict values for all test example"
   ]
  },
  {
   "cell_type": "code",
   "execution_count": 138,
   "metadata": {},
   "outputs": [
    {
     "data": {
      "text/plain": [
       "array([[0.20014488],\n",
       "       [0.999999  ],\n",
       "       [0.96178451],\n",
       "       [0.17501745],\n",
       "       [0.4321229 ],\n",
       "       [0.87008333],\n",
       "       [0.60036969],\n",
       "       [0.80031343],\n",
       "       [0.62833333],\n",
       "       [0.60194444]])"
      ]
     },
     "execution_count": 138,
     "metadata": {},
     "output_type": "execute_result"
    }
   ],
   "source": [
    "#Predict all test examples\n",
    "ypred = reg.predict(validation_features)\n",
    "\n",
    "#Show first 10 prediction results\n",
    "ypred[0:10]"
   ]
  },
  {
   "cell_type": "markdown",
   "metadata": {},
   "source": [
    "Show Scatter Plot "
   ]
  },
  {
   "cell_type": "code",
   "execution_count": 146,
   "metadata": {},
   "outputs": [
    {
     "data": {
      "text/plain": [
       "<matplotlib.collections.PathCollection at 0x7fdd9da7eaf0>"
      ]
     },
     "execution_count": 146,
     "metadata": {},
     "output_type": "execute_result"
    },
    {
     "data": {
      "image/png": "[encoded data removed]",
      "text/plain": [
       "<Figure size 432x288 with 1 Axes>"
      ]
     },
     "metadata": {
      "needs_background": "light"
     },
     "output_type": "display_data"
    }
   ],
   "source": [
    "x = validation_label[0:10]\n",
    "y = ypred[0:10]\n",
    "\n",
    "plt.scatter(x,y)\n",
    "\n",
    "xx = train_label[0:10]\n",
    "yy = ypred[0:10]\n",
    "\n",
    "plt.scatter(xx,yy)\n"
   ]
  },
  {
   "cell_type": "code",
   "execution_count": null,
   "metadata": {},
   "outputs": [],
   "source": []
  },
  {
   "cell_type": "markdown",
   "metadata": {},
   "source": [
    "Calculate deviations between predicted and actual label for first 10 examples"
   ]
  },
  {
   "cell_type": "code",
   "execution_count": 109,
   "metadata": {},
   "outputs": [
    {
     "data": {
      "text/html": [
       "<div>\n",
       "<style scoped>\n",
       "    .dataframe tbody tr th:only-of-type {\n",
       "        vertical-align: middle;\n",
       "    }\n",
       "\n",
       "    .dataframe tbody tr th {\n",
       "        vertical-align: top;\n",
       "    }\n",
       "\n",
       "    .dataframe thead th {\n",
       "        text-align: right;\n",
       "    }\n",
       "</style>\n",
       "<table border=\"1\" class=\"dataframe\">\n",
       "  <thead>\n",
       "    <tr style=\"text-align: right;\">\n",
       "      <th></th>\n",
       "      <th>label</th>\n",
       "    </tr>\n",
       "  </thead>\n",
       "  <tbody>\n",
       "    <tr>\n",
       "      <th>1029</th>\n",
       "      <td>0.334145</td>\n",
       "    </tr>\n",
       "    <tr>\n",
       "      <th>1030</th>\n",
       "      <td>-0.384129</td>\n",
       "    </tr>\n",
       "    <tr>\n",
       "      <th>1031</th>\n",
       "      <td>-0.145354</td>\n",
       "    </tr>\n",
       "    <tr>\n",
       "      <th>1032</th>\n",
       "      <td>0.531432</td>\n",
       "    </tr>\n",
       "    <tr>\n",
       "      <th>1033</th>\n",
       "      <td>0.118573</td>\n",
       "    </tr>\n",
       "    <tr>\n",
       "      <th>1034</th>\n",
       "      <td>-0.132073</td>\n",
       "    </tr>\n",
       "    <tr>\n",
       "      <th>1035</th>\n",
       "      <td>0.030941</td>\n",
       "    </tr>\n",
       "    <tr>\n",
       "      <th>1036</th>\n",
       "      <td>-0.059899</td>\n",
       "    </tr>\n",
       "    <tr>\n",
       "      <th>1037</th>\n",
       "      <td>0.085597</td>\n",
       "    </tr>\n",
       "    <tr>\n",
       "      <th>1038</th>\n",
       "      <td>0.069821</td>\n",
       "    </tr>\n",
       "  </tbody>\n",
       "</table>\n",
       "</div>"
      ],
      "text/plain": [
       "         label\n",
       "1029  0.334145\n",
       "1030 -0.384129\n",
       "1031 -0.145354\n",
       "1032  0.531432\n",
       "1033  0.118573\n",
       "1034 -0.132073\n",
       "1035  0.030941\n",
       "1036 -0.059899\n",
       "1037  0.085597\n",
       "1038  0.069821"
      ]
     },
     "execution_count": 109,
     "metadata": {},
     "output_type": "execute_result"
    }
   ],
   "source": [
    "ypred[0:10]-validation_label[0:10]\n"
   ]
  },
  {
   "cell_type": "markdown",
   "metadata": {},
   "source": [
    "Evaluate linear regression model"
   ]
  },
  {
   "cell_type": "code",
   "execution_count": 112,
   "metadata": {},
   "outputs": [
    {
     "name": "stdout",
     "output_type": "stream",
     "text": [
      "MAE: 0.192\n",
      "R^2 value of the model:  1.0\n"
     ]
    }
   ],
   "source": [
    "from sklearn.metrics import mean_absolute_error\n",
    "\n",
    "mae = mean_absolute_error(validation_label, ypred)\n",
    "print('MAE: %.3f' % mae)\n",
    "#Return the coefficient of determination R^2 of the prediction.\n",
    "print(\"R^2 value of the model: \",reg.score(validation_features,validation_label))"
   ]
  },
  {
   "cell_type": "markdown",
   "metadata": {},
   "source": [
    "Compare to KNN regression model. Experiment with the number of neighbors to find the best fitting model"
   ]
  },
  {
   "cell_type": "code",
   "execution_count": 116,
   "metadata": {},
   "outputs": [
    {
     "name": "stdout",
     "output_type": "stream",
     "text": [
      "MAE: 0.192\n"
     ]
    }
   ],
   "source": [
    "from sklearn.neighbors import KNeighborsRegressor\n",
    "\n",
    "#Initialize KNN regression\n",
    "KNN_reg = KNeighborsRegressor(n_neighbors=20)\n",
    "#Fit KNN regression\n",
    "KNN_reg.fit(train_features,train_label)\n",
    "\n",
    "#Predict all test examples\n",
    "ypred = KNN_reg.predict(validation_features)\n",
    "\n",
    "mae = mean_absolute_error(validation_label, ypred)\n",
    "print('MAE: %.3f' % mae)\n"
   ]
  },
  {
   "cell_type": "code",
   "execution_count": null,
   "metadata": {},
   "outputs": [],
   "source": [
    "Polynomial Regression"
   ]
  },
  {
   "cell_type": "code",
   "execution_count": 115,
   "metadata": {},
   "outputs": [
    {
     "name": "stdout",
     "output_type": "stream",
     "text": [
      "MAE: 0.000\n",
      "R^2 value of the model:  1.0\n"
     ]
    }
   ],
   "source": [
    "#Compare to polynomial regression\n",
    "from sklearn.preprocessing import PolynomialFeatures\n",
    "from sklearn.pipeline import make_pipeline\n",
    "\n",
    "#Initialize and fit polynomial regression\n",
    "degree=2\n",
    "poly_reg=make_pipeline(PolynomialFeatures(degree),linear_model.LinearRegression())\n",
    "poly_reg.fit(train_features,train_label)\n",
    "\n",
    "#Predict all test examples\n",
    "ypred = poly_reg.predict(validation_features)\n",
    "\n",
    "mae = mean_absolute_error(validation_label, ypred)\n",
    "print('MAE: %.3f' % mae)\n",
    "#Return the coefficient of determination R^2 of the prediction.\n",
    "print(\"R^2 value of the model: \",reg.score(validation_features,validation_label))"
   ]
  },
  {
   "cell_type": "code",
   "execution_count": null,
   "metadata": {},
   "outputs": [],
   "source": [
    "Create regression tree for comparison"
   ]
  },
  {
   "cell_type": "code",
   "execution_count": 117,
   "metadata": {},
   "outputs": [
    {
     "name": "stdout",
     "output_type": "stream",
     "text": [
      "MAE: 0.026\n"
     ]
    }
   ],
   "source": [
    "from sklearn.tree import DecisionTreeRegressor\n",
    "\n",
    "#Initialize and fit regression tree\n",
    "tree_reg = DecisionTreeRegressor(random_state=0,max_depth=3)\n",
    "tree_reg.fit(train_features,train_label)\n",
    "\n",
    "#Predict all test examples\n",
    "ypred = tree_reg.predict(validation_features)\n",
    "\n",
    "mae = mean_absolute_error(validation_label, ypred)\n",
    "print('MAE: %.3f' % mae)"
   ]
  },
  {
   "cell_type": "code",
   "execution_count": null,
   "metadata": {},
   "outputs": [],
   "source": []
  }
 ],
 "metadata": {
  "hide_input": false,
  "kernelspec": {
   "display_name": "Python 3",
   "language": "python",
   "name": "python3"
  },
  "language_info": {
   "codemirror_mode": {
    "name": "ipython",
    "version": 3
   },
   "file_extension": ".py",
   "mimetype": "text/x-python",
   "name": "python",
   "nbconvert_exporter": "python",
   "pygments_lexer": "ipython3",
   "version": "3.8.5"
  }
 },
 "nbformat": 4,
 "nbformat_minor": 2
}
